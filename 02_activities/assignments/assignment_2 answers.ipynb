{
 "cells": [
  {
   "cell_type": "markdown",
   "metadata": {},
   "source": [
    "# Practice Interview\n",
    "\n",
    "## Objective\n",
    "\n",
    "_*The partner assignment aims to provide participants with the opportunity to practice coding in an interview context. You will analyze your partner's Assignment 1. Moreover, code reviews are common practice in a software development team. This assignment should give you a taste of the code review process.*_\n",
    "\n",
    "## Group Size\n",
    "\n",
    "Each group should have 2 people. You will be assigned a partner\n",
    "\n",
    "## Part 1:\n",
    "\n",
    "You and your partner must share each other's Assignment 1 submission."
   ]
  },
  {
   "cell_type": "markdown",
   "metadata": {},
   "source": [
    "\n",
    "## Part 2:\n",
    "\n",
    "Create a Jupyter Notebook, create 6 of the following headings, and complete the following for your partner's assignment 1:\n",
    "\n",
    "-   Paraphrase the problem in your own words.\n"
   ]
  },
  {
   "cell_type": "markdown",
   "metadata": {},
   "source": [
    "My partner was assigned Question One: Check Duplicates in Tree\n",
    "\n",
    "The problem is that given the `root` of a binary tree, the idea is to check for duplicate values. If a duplicate exists, the output should be expected to return the duplicate value. If there are multiple duplicates, the output returns the one with the closest distance to the root. If no duplicate exists, the expected output should return -1.\n"
   ]
  },
  {
   "cell_type": "markdown",
   "metadata": {},
   "source": [
    "\n",
    "-   Create 1 new example that demonstrates you understand the problem. Trace/walkthrough 1 example that your partner made and explain it.\n"
   ]
  },
  {
   "cell_type": "code",
   "execution_count": 18,
   "metadata": {},
   "outputs": [
    {
     "name": "stdout",
     "output_type": "stream",
     "text": [
      "[50]\n"
     ]
    }
   ],
   "source": [
    "# My Example\n",
    "# Input: root = [10, 50, 70, 60, 50, 80, 100]\n",
    "# Expected output: [50]\n",
    "\n",
    "class TreeNode(object):\n",
    "     def __init__(self, val = 0, left = None, right = None):\n",
    "         self.val = val\n",
    "         self.left = left\n",
    "         self.right = right \n",
    "\n",
    "# Create tree nodes \n",
    "root = TreeNode(10)          \n",
    "root.left = TreeNode(50)\n",
    "root.right = TreeNode(70)    \n",
    "root.left.left = TreeNode(60)\n",
    "root.left.right = TreeNode(50)\n",
    "root.right.left = TreeNode(80)\n",
    "root.right.right = TreeNode(100)\n",
    "\n",
    "# Run function\n",
    "def is_duplicate(root):\n",
    "    values = set()\n",
    "    duplicates = set()\n",
    "    def traverse(node):\n",
    "        if node is None:\n",
    "            return -1\n",
    "        if node.val in values:\n",
    "            duplicates.add(node.val)\n",
    "        values.add(node.val)\n",
    "        traverse(node.left)\n",
    "        traverse(node.right)\n",
    "    traverse(root)\n",
    "    return list(duplicates)\n",
    "\n",
    "print(is_duplicate(root))  # Output: [50]"
   ]
  },
  {
   "cell_type": "code",
   "execution_count": null,
   "metadata": {},
   "outputs": [
    {
     "name": "stdout",
     "output_type": "stream",
     "text": [
      "9\n"
     ]
    }
   ],
   "source": [
    "# My Partner's Example\n",
    "# Input: root = [1, 9, 9, 4, 5, 7, 8] \n",
    "# Expected Output: 9\n",
    "\n",
    "from collections import deque\n",
    "\n",
    "# Definition for a binary tree node.\n",
    "class TreeNode:\n",
    "    def __init__(self, val=0, left=None, right=None):\n",
    "        self.val = val\n",
    "        self.left = left\n",
    "        self.right = right\n",
    "\n",
    "def is_duplicate(root: TreeNode) -> int:\n",
    "    if not root:\n",
    "        return -1\n",
    "\n",
    "    seen = set()          # This stores the seen values\n",
    "    queue = deque([root])  # This queues for level-order traversal\n",
    "\n",
    "    while queue:\n",
    "        node = queue.popleft()\n",
    "\n",
    "        # This step checks if the current node's value is a duplicate\n",
    "        if node.val in seen:\n",
    "            return node.val  # This step will return the first duplicate value found\n",
    "\n",
    "        seen.add(node.val)   # Mark the current node's value as seen\n",
    "\n",
    "        # Add children to the queue for further exploration\n",
    "        if node.left:\n",
    "            queue.append(node.left)\n",
    "        if node.right:\n",
    "            queue.append(node.right)\n",
    "\n",
    "    return -1  # If no duplicate is found, then -1 is the output that is returned\n",
    "\n",
    "# This creates the tree nodes with the numbers given \n",
    "root = TreeNode(1)\n",
    "root.left = TreeNode(9)\n",
    "root.right = TreeNode(9)\n",
    "root.left.left = TreeNode(4)\n",
    "root.left.right = TreeNode(5)\n",
    "root.right.left = TreeNode(7)\n",
    "root.right.right = TreeNode(8)\n",
    "\n",
    "# Running the function and printing the expected output\n",
    "print(is_duplicate(root))  # With the expected output of 9\n",
    "\n"
   ]
  },
  {
   "cell_type": "markdown",
   "metadata": {},
   "source": [
    "\n",
    "-   Copy the solution your partner wrote. \n"
   ]
  },
  {
   "cell_type": "code",
   "execution_count": 20,
   "metadata": {},
   "outputs": [],
   "source": [
    "from collections import deque\n",
    "\n",
    "# Definition for a binary tree node.\n",
    "class TreeNode:\n",
    "    def __init__(self, val=0, left=None, right=None):\n",
    "        self.val = val\n",
    "        self.left = left\n",
    "        self.right = right\n",
    "\n",
    "def is_duplicate(root: TreeNode) -> int:\n",
    "    if not root:\n",
    "        return -1\n",
    "\n",
    "    seen = set()          # To store seen values\n",
    "    queue = deque([root])  # Queue for level-order traversal\n",
    "\n",
    "    while queue:\n",
    "        node = queue.popleft()\n",
    "\n",
    "        # Check if the current node's value is a duplicate\n",
    "        if node.val in seen:\n",
    "            return node.val  # Return the first duplicate value found\n",
    "\n",
    "        seen.add(node.val)   # Mark the current node's value as seen\n",
    "\n",
    "        # Add children to the queue for further exploration\n",
    "        if node.left:\n",
    "            queue.append(node.left)\n",
    "        if node.right:\n",
    "            queue.append(node.right)\n",
    "\n",
    "    return -1  # If no duplicate is found"
   ]
  },
  {
   "cell_type": "markdown",
   "metadata": {},
   "source": [
    "\n",
    "-   Explain why their solution works in your own words.\n"
   ]
  },
  {
   "cell_type": "markdown",
   "metadata": {},
   "source": [
    "This code works to find duplicates when traversing nodes because it uses a combination of a set and a queue to keep track of the values it has seen and the nodes it needs to visit.\n",
    "\n",
    "- The code starts by checking if the root node is None. If it is, the function returns -1, indicating there are no duplicates.\n",
    "- The code creates a set called seen to store the values it has reviewed. It also creates a queue and adds the root node to it.\n",
    "- The code then enters a loop that continues until the queue is empty. In each iteration of the loop, it removes the next node from the queue and checks if its value is in the seen set.\n",
    "- If the value is in the seen set, it means that the code has seen this value before, so it returns the value as the first duplicate. Otherwise, if the value is not in the seen set, the code adds it to the set and then adds the node's children to the queue. This process is repeated until it has visited all the nodes in the tree. If it doesn't find any duplicates, it returns -1.\n",
    "\n",
    "Overall, this code is an efficient and effective way to find duplicates in a binary tree."
   ]
  },
  {
   "cell_type": "markdown",
   "metadata": {},
   "source": [
    "\n",
    "-   Explain the problem’s time and space complexity in your own words.\n"
   ]
  },
  {
   "cell_type": "markdown",
   "metadata": {},
   "source": [
    "The time and space complexity for this problem are both O(n). \n",
    "\n",
    "Time Complexity: O(n) where 𝑛 is the number of nodes in the tree\n",
    "Breadth-First Traversal: Each node in the binary tree is visited once during the traversal. If there are n nodes in the tree, the traversal takes O(n) time.\n",
    "Set Operations: Checks whether a value is in the seen set and adding a value to the set both take an average O(1) time. These operations are performed once for each node.\n",
    "\n",
    "Space Complexity: O(n)\n",
    "Queue (for Level-Order Traversal): The queue stores nodes at the current level during traversal.\n",
    "Set (for Tracking Seen Values): The seen set stores the values of all visited nodes. If no duplicates exist, the set will contain all n node values."
   ]
  },
  {
   "cell_type": "markdown",
   "metadata": {},
   "source": [
    "\n",
    "-   Critique your partner's solution, including explanation, and if there is anything that should be adjusted.\n"
   ]
  },
  {
   "cell_type": "markdown",
   "metadata": {},
   "source": [
    "My partner's solution of using the breadth-first traversal method works well and provides the expected output in both of their examples. Their code checks for duplicates when traversing nodes by using a combination of a set and a queue to keep track of the values and nodes visited. Furthermore, my partner suggested an alternative solution to address the same problem by using the pre-order depth-first traversal algorithm, which entails checking the current node first, then the left subtree, and finally the right subtree. Essentially, the concept of this alternative approach is to explore one branch fully before moving onto the next branch. \n",
    "\n",
    "In this case in which we are simply checking for duplicates, I believe my partner's use of the breadth-first traversal graph algorithm was the better approach because in an uncomplicated graph, the breadth-first traversal algorithm is useful when looking for the shortest path between these nodes or for minimally spanning trees, which matches the examples used in our assignment. Therefore, the use of this algorithm would contribute to faster time to receive an output, i.e. this solution seems to be more efficient. In the example I provided, I attempted to use the depth-first algorithm. However, I agree with their approach and would not suggest making any adjustments. "
   ]
  },
  {
   "cell_type": "markdown",
   "metadata": {},
   "source": [
    "\n",
    "## Part 3:\n",
    "\n",
    "Please write a 200 word reflection documenting your process from assignment 1, and your presentation and review experience with your partner at the bottom of the Jupyter Notebook under a new heading \"Reflection.\" Again, export this Notebook as pdf.\n"
   ]
  },
  {
   "cell_type": "markdown",
   "metadata": {},
   "source": [
    "### Reflection"
   ]
  },
  {
   "cell_type": "markdown",
   "metadata": {},
   "source": [
    "In Assignment 1, I answered Question 3, which involved writing a function that finds missing numbers in a list of integers. I attempted to carefully read the problem statement, and understanding the input and expected output. I then reviewed applicable content that included reviewing class lectures and notes, brainstormed possible approaches through hands-on coding, troubleshoot the many coding errors, and continued this iterative process until I came up with a solution that provided the expected results. Throughout the coding process, I attempted to ensure my solution was readable and well-documented. I also reviewed the time and space complexity for the problem and learned more about alternative approaches to address the same problem. I ultimately utilized a set-based algorithm, which allowed me to efficiently identify missing numbers by comparing the input list to a set of expected numbers. I also considered alternative solutions, including a boolean array algorithm, which could provide a more space-efficient approach.\n",
    "\n",
    "My review experience with my partner was positive, and overall, I found this process of peer-reviewing each other's work to be helpful and informative largely because my partner's code and written content was clear and organized. Through my review of their work, I also discovered that although my code in Assignment 1 seemed clear, there were other sections in my assignment - such as my explanation of the time and space complexity for my solution and my code examples - could have been improved.  \n",
    "\n",
    "Because my partner and I addressed different questions (Q1 and Q3), I found this assignment to be helpful because it was an opportunity to learn new content as well as to reinforce the information covered during class. It is also helpful to learn new solutions from someone else. My partner provided encouraging feedback on my code's clarity. Through their assignment and code review, I also learned from their approach and gained insights into different problem solving strategies.\n",
    "\n",
    "Overall, this assignment helped me develop my problem solving skills, coding abilities, and code communication skills. This assignment was helpful for me as it allowed me to better understand the value of peer review in improving my work."
   ]
  },
  {
   "cell_type": "markdown",
   "metadata": {},
   "source": []
  },
  {
   "cell_type": "markdown",
   "metadata": {},
   "source": [
    "\n",
    "## Evaluation Criteria\n",
    "\n",
    "We are looking for the similar points as Assignment 1\n",
    "\n",
    "-   Problem is accurately stated\n",
    "\n",
    "-   New example is correct and easily understandable\n",
    "\n",
    "-   Correctness, time, and space complexity of the coding solution\n",
    "\n",
    "-   Clarity in explaining why the solution works, its time and space complexity\n",
    "\n",
    "-   Quality of critique of your partner's assignment, if necessary\n"
   ]
  },
  {
   "cell_type": "markdown",
   "metadata": {},
   "source": [
    "## Submission Information\n",
    "\n",
    "🚨 **Please review our [Assignment Submission Guide](https://github.com/UofT-DSI/onboarding/blob/main/onboarding_documents/submissions.md)** 🚨 for detailed instructions on how to format, branch, and submit your work. Following these guidelines is crucial for your submissions to be evaluated correctly.\n",
    "\n",
    "### Submission Parameters:\n",
    "* Submission Due Date: `HH:MM AM/PM - DD/MM/YYYY`\n",
    "* The branch name for your repo should be: `assignment-2`\n",
    "* What to submit for this assignment:\n",
    "    * This Jupyter Notebook (assignment_2.ipynb) should be populated and should be the only change in your pull request.\n",
    "* What the pull request link should look like for this assignment: `https://github.com/<your_github_username>/algorithms_and_data_structures/pull/<pr_id>`\n",
    "    * Open a private window in your browser. Copy and paste the link to your pull request into the address bar. Make sure you can see your pull request properly. This helps the technical facilitator and learning support staff review your submission easily.\n",
    "\n",
    "Checklist:\n",
    "- [ ] Created a branch with the correct naming convention.\n",
    "- [ ] Ensured that the repository is public.\n",
    "- [ ] Reviewed the PR description guidelines and adhered to them.\n",
    "- [ ] Verify that the link is accessible in a private browser window.\n",
    "\n",
    "If you encounter any difficulties or have questions, please don't hesitate to reach out to our team via our Slack at `#cohort-3-help`. Our Technical Facilitators and Learning Support staff are here to help you navigate any challenges.\n"
   ]
  }
 ],
 "metadata": {
  "kernelspec": {
   "display_name": "dsi_participant",
   "language": "python",
   "name": "python3"
  },
  "language_info": {
   "codemirror_mode": {
    "name": "ipython",
    "version": 3
   },
   "file_extension": ".py",
   "mimetype": "text/x-python",
   "name": "python",
   "nbconvert_exporter": "python",
   "pygments_lexer": "ipython3",
   "version": "3.9.15"
  }
 },
 "nbformat": 4,
 "nbformat_minor": 2
}
