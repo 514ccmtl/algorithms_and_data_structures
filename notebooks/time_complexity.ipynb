{
 "cells": [
  {
   "cell_type": "code",
   "execution_count": 12,
   "id": "271e942f-dd86-462f-868a-645c2ba541a3",
   "metadata": {},
   "outputs": [],
   "source": [
    "import timeit\n",
    "import random"
   ]
  },
  {
   "cell_type": "code",
   "execution_count": 38,
   "id": "070f8a79-9dbd-4767-acdc-76d9460eb3a9",
   "metadata": {},
   "outputs": [],
   "source": [
    "small_list = list(range(10)) # 10 \n",
    "medium_list = list(range(10**2)) # 100\n",
    "big_list = list(range(10**4)) #  10000\n",
    "\n",
    "random.shuffle(small_list)\n",
    "random.shuffle(medium_list)\n",
    "random.shuffle(big_list)"
   ]
  },
  {
   "cell_type": "code",
   "execution_count": 49,
   "id": "076ecea7-16db-4e09-b29b-65782a3ac88a",
   "metadata": {},
   "outputs": [
    {
     "name": "stdout",
     "output_type": "stream",
     "text": [
      "Time to run on small list: 0.000104\n",
      "Time to run on medium list: 0.000105 which is 1.01 times the small list\n",
      "Time to run on big list: 0.000105 which is 0.9962 times the medium list, and 0.9962 times the small list\n"
     ]
    }
   ],
   "source": [
    "def get_first_element(lst):\n",
    "    return lst[0]\n",
    "\n",
    "#O(1)\n",
    "\n",
    "a = timeit.timeit(\"get_first_element(small_list)\", number=1000, globals=globals())\n",
    "b = timeit.timeit(\"get_first_element(medium_list)\", number=1000, globals=globals())\n",
    "c = timeit.timeit(\"get_first_element(big_list)\", number=1000, globals=globals())\n",
    "print(\"Time to run on small list: {0:.6f}\".format(a))\n",
    "print(\"Time to run on medium list: {0:.6f} which is {1:.2f} times the small list\".format(b, b/a))\n",
    "print(\"Time to run on big list: {0:.6f} which is {1:.4f} times the medium list, and {1:.4f} times the small list\".format(c, c/b, c/a))"
   ]
  },
  {
   "cell_type": "code",
   "execution_count": 50,
   "id": "9e9be818-5183-41fb-ae19-e3c51fe325a9",
   "metadata": {},
   "outputs": [
    {
     "name": "stdout",
     "output_type": "stream",
     "text": [
      "Time to run on small list: 0.000409\n",
      "Time to run on medium list: 0.000406 which is 0.99 times the small list\n",
      "Time to run on big list: 0.000407 which is 1.0018 times the medium list, and 1.0018 times the small list\n"
     ]
    }
   ],
   "source": [
    "def add_first_10_numbers(lst):\n",
    "    total = lst[0]\n",
    "    total = total + lst[1]\n",
    "    total = total + lst[2]\n",
    "    total = total + lst[3]\n",
    "    total = total + lst[4]\n",
    "    total = total + lst[5]\n",
    "    total = total + lst[6]\n",
    "    total = total + lst[7]\n",
    "    total = total + lst[8]\n",
    "    total = total + lst[9]\n",
    "    return total\n",
    "\n",
    "#O(1)\n",
    "\n",
    "a = timeit.timeit(\"add_first_10_numbers(small_list)\", number=1000, globals=globals())\n",
    "b = timeit.timeit(\"add_first_10_numbers(medium_list)\", number=1000, globals=globals())\n",
    "c = timeit.timeit(\"add_first_10_numbers(big_list)\", number=1000, globals=globals())\n",
    "print(\"Time to run on small list: {0:.6f}\".format(a))\n",
    "print(\"Time to run on medium list: {0:.6f} which is {1:.2f} times the small list\".format(b, b/a))\n",
    "print(\"Time to run on big list: {0:.6f} which is {1:.4f} times the medium list, and {1:.4f} times the small list\".format(c, c/b, c/a))"
   ]
  },
  {
   "cell_type": "code",
   "execution_count": 51,
   "id": "75e09cc5-3da4-4021-85bb-8141643547cb",
   "metadata": {},
   "outputs": [
    {
     "name": "stdout",
     "output_type": "stream",
     "text": [
      "Time to run on small list: 0.000460\n",
      "Time to run on medium list: 0.004154 which is 9.04 times the small list\n",
      "Time to run on big list: 0.41144718835130334 which is 99.04530223253654 times the medium list, and 895.3064136313986 times the small list\n"
     ]
    }
   ],
   "source": [
    "def get_sum(lst):\n",
    "    total = 0\n",
    "    for item in lst:\n",
    "        total = total + item\n",
    "    return total\n",
    "\n",
    "#O(n)\n",
    "\n",
    "a = timeit.timeit(\"get_sum(small_list)\", number=1000, globals=globals())\n",
    "b = timeit.timeit(\"get_sum(medium_list)\", number=1000, globals=globals())\n",
    "c = timeit.timeit(\"get_sum(big_list)\", number=1000, globals=globals())\n",
    "print(\"Time to run on small list: {0:.6f}\".format(a))\n",
    "print(\"Time to run on medium list: {0:.6f} which is {1:.2f} times the small list\".format(b, b/a))\n",
    "print(\"Time to run on big list: {} which is {} times the medium list, and {} times the small list\".format(c, c/b, c/a))"
   ]
  },
  {
   "cell_type": "code",
   "execution_count": 52,
   "id": "78648b8b-a76a-41de-893b-df5745e54542",
   "metadata": {},
   "outputs": [
    {
     "name": "stdout",
     "output_type": "stream",
     "text": [
      "Time to run on small list: 0.001046\n",
      "Time to run on medium list: 0.006312 which is 6.04 times the small list\n",
      "Time to run on big list: 0.7197815389372408 which is 114.03587316080048 times the medium list, and 688.3099565252821 times the small list\n"
     ]
    }
   ],
   "source": [
    "def search(arr, target):\n",
    "    for i in range(len(arr)):\n",
    "        if arr[i] == target:\n",
    "            return i\n",
    "    return -1\n",
    "\n",
    "#O(n)\n",
    "\n",
    "a = timeit.timeit(\"search(small_list, random.random() * len(small_list))\", number=1000, globals=globals())\n",
    "b = timeit.timeit(\"search(medium_list, random.random() * len(medium_list))\", number=1000, globals=globals())\n",
    "c = timeit.timeit(\"search(big_list, random.random() * len(big_list))\", number=1000, globals=globals())\n",
    "print(\"Time to run on small list: {0:.6f}\".format(a))\n",
    "print(\"Time to run on medium list: {0:.6f} which is {1:.2f} times the small list\".format(b, b/a))\n",
    "print(\"Time to run on big list: {} which is {} times the medium list, and {} times the small list\".format(c, c/b, c/a))"
   ]
  },
  {
   "cell_type": "code",
   "execution_count": 53,
   "id": "efb2b577-5beb-46b9-bf39-4827cd0ad4fc",
   "metadata": {},
   "outputs": [
    {
     "name": "stdout",
     "output_type": "stream",
     "text": [
      "Time to run on small list: 0.000063\n",
      "Time to run on medium list: 0.003820 which is 61.00 times the small list\n",
      "Time to run on big list: 48.32936877198517 which is 12653.210480802722 times the medium list, and 771865.1303416579 times the small list\n"
     ]
    }
   ],
   "source": [
    "def bubble_sort(arr):\n",
    "    n = len(arr)\n",
    "    for i in range(n):\n",
    "        for j in range(0, n-i-1):\n",
    "            if arr[j] > arr[j+1]:\n",
    "                arr[j], arr[j+1] = arr[j+1], arr[j]\n",
    "    return arr\n",
    "\n",
    "# O(n^2)\n",
    "\n",
    "a = timeit.timeit(\"bubble_sort(small_list)\", number=10, globals=globals())\n",
    "b = timeit.timeit(\"bubble_sort(medium_list)\", number=10, globals=globals())\n",
    "c = timeit.timeit(\"bubble_sort(big_list)\", number=10, globals=globals())\n",
    "print(\"Time to run on small list: {0:.6f}\".format(a))\n",
    "print(\"Time to run on medium list: {0:.6f} which is {1:.2f} times the small list\".format(b, b/a))\n",
    "print(\"Time to run on big list: {} which is {} times the medium list, and {} times the small list\".format(c, c/b, c/a))"
   ]
  },
  {
   "cell_type": "code",
   "execution_count": 54,
   "id": "998b5ee5-30bc-44e0-b10a-778ee80b23ef",
   "metadata": {},
   "outputs": [
    {
     "name": "stdout",
     "output_type": "stream",
     "text": [
      "Time to run on small list: 0.000107\n",
      "Time to run on medium list: 0.000164 which is 1.53 times the small list\n",
      "Time to run on big list: 0.0003495910204946995 which is 2.1330959883392198 times the medium list, and 3.256135009238296 times the small list\n"
     ]
    }
   ],
   "source": [
    "def binary_search(arr, target):\n",
    "    low, high = 0, len(arr) - 1\n",
    "    while low <= high:\n",
    "        mid = (low + high) // 2\n",
    "        if arr[mid] == target:\n",
    "            return mid\n",
    "        elif arr[mid] < target:\n",
    "            low = mid + 1\n",
    "        else:\n",
    "            high = mid - 1\n",
    "    return -1\n",
    "\n",
    "# O(log n)\n",
    "\n",
    "small_list = list(range(10))\n",
    "medium_list = list(range(100))\n",
    "big_list = list(range(10000))\n",
    "\n",
    "\n",
    "a = timeit.timeit(\"binary_search(small_list, random.random() * len(small_list))\", number=100, globals=globals())\n",
    "b = timeit.timeit(\"binary_search(medium_list, random.random() * len(medium_list))\", number=100, globals=globals())\n",
    "c = timeit.timeit(\"binary_search(big_list, random.random() * len(big_list))\", number=100, globals=globals())\n",
    "print(\"Time to run on small list: {0:.6f}\".format(a))\n",
    "print(\"Time to run on medium list: {0:.6f} which is {1:.2f} times the small list\".format(b, b/a))\n",
    "print(\"Time to run on big list: {} which is {} times the medium list, and {} times the small list\".format(c, c/b, c/a))"
   ]
  },
  {
   "cell_type": "code",
   "execution_count": null,
   "id": "43dcdc0c-d2f0-445e-a1c2-d07d4daec3fb",
   "metadata": {},
   "outputs": [],
   "source": []
  },
  {
   "cell_type": "code",
   "execution_count": null,
   "id": "23c31601-55a6-4726-8872-3e4d5fe15467",
   "metadata": {},
   "outputs": [],
   "source": []
  },
  {
   "cell_type": "code",
   "execution_count": 59,
   "id": "58404016-d75b-4a99-b1fb-69a64b4ee031",
   "metadata": {},
   "outputs": [
    {
     "data": {
      "text/plain": [
       "[5, 4, 3, 2, 1, 0]"
      ]
     },
     "execution_count": 59,
     "metadata": {},
     "output_type": "execute_result"
    }
   ],
   "source": [
    "list(reversed(range(0, 5+1)))"
   ]
  },
  {
   "cell_type": "code",
   "execution_count": null,
   "id": "d6f00e26-baa4-411a-a0ff-5278a67f9118",
   "metadata": {},
   "outputs": [],
   "source": []
  },
  {
   "cell_type": "code",
   "execution_count": 62,
   "id": "e85d8c27-caa4-4f27-8cc9-97fdeeed943d",
   "metadata": {},
   "outputs": [],
   "source": [
    "def calculate_h_index(publications):\n",
    "    \n",
    "    number_of_publications = len(publications) # O(n)\n",
    "\n",
    "    count = 0 # O(1)\n",
    "    \n",
    "    for i in reversed(range(0, number_of_publications)):  # O(n)\n",
    "        for publication in publications: # O(n)\n",
    "            if (publication >= i): # O(1)\n",
    "                count +=1 # O(1)\n",
    "            if count == i: # O(1)\n",
    "                return i # O(1)\n",
    "        count = 0 # O(1)\n",
    "    \n",
    "    return 0 # O(1)\n",
    "\n",
    "# O( n + 1 + (n * n * 1 * 1 * 1 * 1 * 1) + 1)\n",
    "# O( n + 1 + n^2 + 1)\n",
    "# O(n^2)"
   ]
  },
  {
   "cell_type": "code",
   "execution_count": 63,
   "id": "06ce3a3a-3502-4b3b-b872-ae3682c8e5f9",
   "metadata": {},
   "outputs": [
    {
     "data": {
      "text/plain": [
       "2"
      ]
     },
     "execution_count": 63,
     "metadata": {},
     "output_type": "execute_result"
    }
   ],
   "source": [
    "calculate_h_index([2, 2, 5, 6])"
   ]
  },
  {
   "cell_type": "code",
   "execution_count": 65,
   "id": "ce9cdf93-5739-4a9d-9975-41c6f35469dd",
   "metadata": {},
   "outputs": [
    {
     "data": {
      "text/plain": [
       "-3697640219232334096"
      ]
     },
     "execution_count": 65,
     "metadata": {},
     "output_type": "execute_result"
    }
   ],
   "source": [
    "hash(\"test\")"
   ]
  },
  {
   "cell_type": "code",
   "execution_count": null,
   "id": "9ba87069-2fad-48c2-9cb6-9aca643e843b",
   "metadata": {},
   "outputs": [],
   "source": []
  }
 ],
 "metadata": {
  "kernelspec": {
   "display_name": "Python 3 (ipykernel)",
   "language": "python",
   "name": "python3"
  },
  "language_info": {
   "codemirror_mode": {
    "name": "ipython",
    "version": 3
   },
   "file_extension": ".py",
   "mimetype": "text/x-python",
   "name": "python",
   "nbconvert_exporter": "python",
   "pygments_lexer": "ipython3",
   "version": "3.10.12"
  }
 },
 "nbformat": 4,
 "nbformat_minor": 5
}
